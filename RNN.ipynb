{
 "cells": [
  {
   "cell_type": "code",
   "execution_count": 60,
   "metadata": {},
   "outputs": [
    {
     "name": "stdout",
     "output_type": "stream",
     "text": [
      "C:\\Users\\sebbe\\Desktop\\MED-local\\ElectricWordsmith\\inspiration\\Andre 3000_lyrics.txt\n",
      "C:\\Users\\sebbe\\Desktop\\MED-local\\ElectricWordsmith\\inspiration\\ASAP Rocky_lyrics.txt\n",
      "C:\\Users\\sebbe\\Desktop\\MED-local\\ElectricWordsmith\\inspiration\\business.txt\n",
      "C:\\Users\\sebbe\\Desktop\\MED-local\\ElectricWordsmith\\inspiration\\Drake_lyrics.txt\n",
      "C:\\Users\\sebbe\\Desktop\\MED-local\\ElectricWordsmith\\inspiration\\eminemlyrics.txt\n",
      "C:\\Users\\sebbe\\Desktop\\MED-local\\ElectricWordsmith\\inspiration\\getIntoIt.txt\n",
      "C:\\Users\\sebbe\\Desktop\\MED-local\\ElectricWordsmith\\inspiration\\Isaiah Rashad_lyrics.txt\n",
      "C:\\Users\\sebbe\\Desktop\\MED-local\\ElectricWordsmith\\inspiration\\J Cole_lyrics.txt\n",
      "C:\\Users\\sebbe\\Desktop\\MED-local\\ElectricWordsmith\\inspiration\\Logic_lyrics.txt\n",
      "C:\\Users\\sebbe\\Desktop\\MED-local\\ElectricWordsmith\\inspiration\\Mac Miller_lyrics.txt\n",
      "C:\\Users\\sebbe\\Desktop\\MED-local\\ElectricWordsmith\\inspiration\\melt_session.txt\n",
      "C:\\Users\\sebbe\\Desktop\\MED-local\\ElectricWordsmith\\inspiration\\Nas_lyrics.txt\n",
      "C:\\Users\\sebbe\\Desktop\\MED-local\\ElectricWordsmith\\inspiration\\Royce Da 59_lyrics.txt\n",
      "C:\\Users\\sebbe\\Desktop\\MED-local\\ElectricWordsmith\\inspiration\\Tyler The Creator_lyrics.txt\n"
     ]
    }
   ],
   "source": [
    "## from nltk.tokenize import sent_tokenize, word_tokenize\n",
    "import nltk\n",
    "import os\n",
    "\n",
    "\n",
    "#\n",
    "# with open(f\"{cwd}\\inspiration\\{dataroot[0]}\").read().replace('\\n', '. ') as file:\n",
    "#     print(file)\n",
    "cwd = os.getcwd()\n",
    "dataroot = os.listdir(cwd + \"\\inspiration\")\n",
    "\n",
    "sentData = []\n",
    "\n",
    "for i in range(0, len(dataroot)):\n",
    "    print(f\"{cwd}\\inspiration\\{dataroot[i]}\")\n",
    "    data2 = open(f\"{cwd}\\inspiration\\{dataroot[i]}\", encoding=\"utf8\").read().replace('\\n', '. ').lower()\n",
    "    sentData.append(sent_tokenize(data2))\n",
    "\n"
   ]
  },
  {
   "cell_type": "code",
   "execution_count": 88,
   "metadata": {},
   "outputs": [
    {
     "name": "stdout",
     "output_type": "stream",
     "text": [
      "[\"you 'bout to witness hip hop in its most purest.\", 'most rawest form, flow almost flawless.', 'most hardest, most honest known artist.', 'chip off the old block but old doc is.', 'back!.', 'looks like batman brought his own robin.', \"oh god, saddam's got his own laden.\", 'with his own private plane, his own pilot.', 'set to blow college dorm room doors off their hinges.', 'oranges, peach, pears, plums, syringes.', \"yeah, here i come, i'm inches.\", 'away from you, dear fear none.', 'hip hop is in a state of nine-one-one, so.', \"let's get down to business.\", \"i don't got no time to play around, what is this?.\", \"must be a circus in town, let's shut that shit down.\", 'on these clowns, can i getta witness?.', '(hell yeah!).', \"let's get down to business.\", \"i don't got no time to play around, what is this?.\", \"must be a circus in town, let's shut that shit down.\", 'on these clowns, can i getta witness?.', '(hell yeah!).', 'quick gotta move fast, gotta perform miracles.', 'gee wilikers dre, holy bat syllables.', 'look at all the bullshit that goes on in gotham.', \"when i'm gone time to get rid of these rap criminals.\", 'so skip to your lou, while i do what i do best.', \"you ain't even impressed no more, you're used to it.\", 'flows too wet, nobody close to it.', 'nobody says it, but still everyone knows the shit.', 'the most hated on out of all those who say they get hated on.', 'in eighty songs and exaggerate it all so much.', \"they make it all up, there's no such thing.\", 'like a female with good looks, who cooks and cleans.', 'it just means so much more to so much more.', \"people, when you're rappin' and you know what for.\", \"the show must go on, so i'd like to welcome y'all.\", \"to marshall and andré's carnival, c'mon!.\", \"now let's get down to business.\", \"i don't got no time to play around, what is this?.\", \"must be a circus in town, let's shut that shit down.\", 'on these clowns, can i getta witness?.', \"let's get down to business.\", \"i don't got no time to play around, what is this?.\", \"must be a circus in town, let's shut that shit down.\", 'on these clowns, can i getta witness?.', '(hell yeah!).', \"it's just like old times, the dynamic duo.\", 'two old friends, why panic?.', \"you already know who's fully capable, the two caped heroes.\", 'dial straight down the center 8-0-0. you can even call collect, the most feared duet.', 'since me and elton, played career russian roulette.', 'and never even seen me blink or get to busting a sweat.', 'people stepping over people just to rush to the set.', 'just to get to see an mc who breathes so freely.', 'ease over these beats and be so breezy.', 'jesus, how can shit be so easy.', 'how can one chandra be so levy.', \"turn on these beats mc's don't see me.\", 'believe me, bet and mtv.', \"are gonna grieve when we leave, dawg fo' sheezy.\", \"can't leave rap alone the game needs me.\", 'till we grow beards, get weird and disappear.', 'into the mountains, nothing but clowns down here.', \"but we ain't fucking around round here.\", 'yo dre!.', '(what up?).', 'can i get a hell yeah?.', \"let's get down to business.\", \"i don't got no time to play around, what is this?.\", \"must be a circus in town, let's shut that shit down.\", 'on these clowns, can i getta witness?.', '(hell yeah!).', \"let's get down to business.\", \"i don't got no time to play around, what is this?.\", \"must be a circus in town, let's shut that shit down.\", 'on these clowns, can i getta witness?.', '(hell yeah!)']\n"
     ]
    }
   ],
   "source": [
    "print(sentData[2][:])\n"
   ]
  },
  {
   "cell_type": "code",
   "execution_count": 76,
   "metadata": {},
   "outputs": [],
   "source": [
    "textAsList = []\n",
    "textAsList.clear()\n",
    "\n",
    "def extractTextAsList(text):\n",
    "    global textAsList\n",
    "    textAsList += [w for w in text.split(' ') if w.strip() !='']\n",
    "    "
   ]
  },
  {
   "cell_type": "code",
   "execution_count": 77,
   "metadata": {},
   "outputs": [
    {
     "name": "stdout",
     "output_type": "stream",
     "text": [
      "['you', \"'bout\", 'to', 'witness', 'hip', 'hop', 'in', 'its', 'most', 'purest.']\n"
     ]
    }
   ],
   "source": [
    "\n",
    "extractTextAsList(sentData[2][0])\n",
    "print(textAsList)"
   ]
  },
  {
   "cell_type": "code",
   "execution_count": 78,
   "metadata": {},
   "outputs": [
    {
     "name": "stdout",
     "output_type": "stream",
     "text": [
      "Total amount of words:  394790\n",
      "rats,\n"
     ]
    }
   ],
   "source": [
    "for index in range(0, len(sentData)):\n",
    "    for j in range(0, len(sentData[index])):\n",
    "        extractTextAsList(sentData[index][j])\n",
    "        \n",
    "print(\"Total amount of words: \", len(textAsList))\n",
    "print(textAsList[11330])"
   ]
  },
  {
   "cell_type": "code",
   "execution_count": 90,
   "metadata": {},
   "outputs": [
    {
     "name": "stdout",
     "output_type": "stream",
     "text": [
      "34863\n",
      "How many fucks?: 1450\n"
     ]
    }
   ],
   "source": [
    "frequencies = {}\n",
    "frequencies.clear()\n",
    "\n",
    "\n",
    "for word in textAsList:\n",
    "    frequencies[word] = frequencies.get(word, 0) + 1\n",
    "    \n",
    "print(len(frequencies))\n",
    "\n",
    "print(\"How many fucks?:\", frequencies['fuck'])\n",
    "\n",
    "    "
   ]
  },
  {
   "cell_type": "code",
   "execution_count": 91,
   "metadata": {},
   "outputs": [],
   "source": [
    "uncommonWords = set()\n",
    "minFreq = 7\n",
    "minSeq = 5\n",
    "BATCH_SIZE = 32\n",
    "\n",
    "uncommonWords = set([key for key in frequencies.keys() if frequencies[key] < minFreq])\n",
    "words = sorted(set([key for key in frequencies.keys() if frequencies[key] >= minFreq]))\n",
    "\n",
    "numWords = len(words)\n",
    "\n",
    "\n",
    "\n"
   ]
  }
 ],
 "metadata": {
  "kernelspec": {
   "display_name": "Python 3",
   "language": "python",
   "name": "python3"
  },
  "language_info": {
   "codemirror_mode": {
    "name": "ipython",
    "version": 3
   },
   "file_extension": ".py",
   "mimetype": "text/x-python",
   "name": "python",
   "nbconvert_exporter": "python",
   "pygments_lexer": "ipython3",
   "version": "3.8.3"
  }
 },
 "nbformat": 4,
 "nbformat_minor": 4
}
